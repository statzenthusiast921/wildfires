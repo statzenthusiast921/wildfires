{
 "cells": [
  {
   "cell_type": "markdown",
   "id": "cdcc1fdd",
   "metadata": {},
   "source": [
    "## Load data"
   ]
  },
  {
   "cell_type": "code",
   "execution_count": 1,
   "id": "d8668e18",
   "metadata": {},
   "outputs": [],
   "source": [
    "import pandas as pd\n",
    "import numpy as np\n",
    "import matplotlib.pyplot as plt\n",
    "import matplotlib.colors as mcolors\n",
    "import warnings\n",
    "warnings.filterwarnings('ignore')\n",
    "from sklearn.cluster import KMeans"
   ]
  },
  {
   "cell_type": "code",
   "execution_count": 2,
   "id": "b6565cf9",
   "metadata": {},
   "outputs": [
    {
     "name": "stdout",
     "output_type": "stream",
     "text": [
      "(33513, 19)\n",
      "(61088, 19)\n",
      "(189550, 19)\n"
     ]
    }
   ],
   "source": [
    "url1 = \"https://raw.githubusercontent.com/statzenthusiast921/wildfires/refs/heads/main/data/fire_df_wa.csv\"\n",
    "url2 = \"https://raw.githubusercontent.com/statzenthusiast921/wildfires/refs/heads/main/data/fire_df_or.csv\"\n",
    "url3 = \"https://raw.githubusercontent.com/statzenthusiast921/wildfires/refs/heads/main/data/fire_df_ca.csv\"\n",
    "\n",
    "df_wa = pd.read_csv(url1)\n",
    "df_or = pd.read_csv(url2)\n",
    "df_ca = pd.read_csv(url3, dtype={16: str, 18: str})\n",
    "\n",
    "\n",
    "print(df_wa.shape)\n",
    "print(df_or.shape)\n",
    "print(df_ca.shape)"
   ]
  },
  {
   "cell_type": "markdown",
   "id": "925c1970",
   "metadata": {},
   "source": [
    "## Combine state datasets"
   ]
  },
  {
   "cell_type": "code",
   "execution_count": 3,
   "id": "59656579",
   "metadata": {},
   "outputs": [
    {
     "data": {
      "text/plain": [
       "(284151, 19)"
      ]
     },
     "execution_count": 3,
     "metadata": {},
     "output_type": "execute_result"
    }
   ],
   "source": [
    "full_df = pd.concat([df_wa, df_or, df_ca], ignore_index=True)\n",
    "full_df.shape"
   ]
  },
  {
   "cell_type": "markdown",
   "id": "78881b90",
   "metadata": {},
   "source": [
    "## Prepare data/create features"
   ]
  },
  {
   "cell_type": "markdown",
   "id": "bd772172",
   "metadata": {},
   "source": [
    "#### Fire season is cyclical so let's make some seasonal parameters"
   ]
  },
  {
   "cell_type": "code",
   "execution_count": 4,
   "id": "8dc7bce3",
   "metadata": {},
   "outputs": [],
   "source": [
    "#-----Convert to appropriate time format\n",
    "full_df['EndDate'] = pd.to_datetime(full_df['CONT_DATE'], unit='D', origin='julian')\n",
    "full_df['StartDate'] = pd.to_datetime(full_df['DISCOVERY_DATE'], unit='D', origin='julian')\n",
    "full_df['FireLengthDays'] = full_df['CONT_DATE'] - full_df['DISCOVERY_DATE']"
   ]
  },
  {
   "cell_type": "code",
   "execution_count": 5,
   "id": "672009ac",
   "metadata": {},
   "outputs": [],
   "source": [
    "full_df = full_df[['LATITUDE','LONGITUDE','STATE','FireLengthDays','FIRE_YEAR','StartDate','FIRE_SIZE','STAT_CAUSE_DESCR']]"
   ]
  },
  {
   "cell_type": "code",
   "execution_count": 6,
   "id": "dfdb0b36",
   "metadata": {
    "scrolled": true
   },
   "outputs": [],
   "source": [
    "#full_df['MonthName'] = full_df['StartDate'].dt.strftime('%B')\n",
    "full_df['MonthName'] = full_df['StartDate'].dt.month\n",
    "full_df['month_sin'] = np.sin(2 * np.pi * full_df['MonthName'] / 12)\n",
    "full_df['month_cos'] = np.cos(2 * np.pi * full_df['MonthName'] / 12)"
   ]
  },
  {
   "cell_type": "markdown",
   "id": "32f833ef",
   "metadata": {},
   "source": [
    "#### We don't need all of these cause values"
   ]
  },
  {
   "cell_type": "code",
   "execution_count": 7,
   "id": "b1007c45",
   "metadata": {},
   "outputs": [
    {
     "data": {
      "text/plain": [
       "Lightning            68250\n",
       "Miscellaneous        64835\n",
       "Equipment Use        44958\n",
       "Debris Burning       24800\n",
       "Arson                22942\n",
       "Campfire             20812\n",
       "Missing/Undefined    14017\n",
       "Smoking               9163\n",
       "Children              9155\n",
       "Powerline             1814\n",
       "Fireworks             1781\n",
       "Railroad              1299\n",
       "Structure              325\n",
       "Name: STAT_CAUSE_DESCR, dtype: int64"
      ]
     },
     "execution_count": 7,
     "metadata": {},
     "output_type": "execute_result"
    }
   ],
   "source": [
    "full_df['STAT_CAUSE_DESCR'].value_counts()"
   ]
  },
  {
   "cell_type": "code",
   "execution_count": 8,
   "id": "250ca327",
   "metadata": {},
   "outputs": [
    {
     "name": "stdout",
     "output_type": "stream",
     "text": [
      "(284151, 11)\n",
      "(268510, 11)\n"
     ]
    }
   ],
   "source": [
    "print(full_df.shape)\n",
    "full_df = full_df[~full_df['STAT_CAUSE_DESCR'].isin(['Structure','Railroad','Missing/Undefined'])]\n",
    "print(full_df.shape)"
   ]
  },
  {
   "cell_type": "code",
   "execution_count": 9,
   "id": "dccc4061",
   "metadata": {},
   "outputs": [],
   "source": [
    "full_df = pd.get_dummies(full_df, columns=['STAT_CAUSE_DESCR']).drop(columns=['STAT_CAUSE_DESCR_Fireworks'])"
   ]
  },
  {
   "cell_type": "markdown",
   "id": "2212997c",
   "metadata": {},
   "source": [
    "#### Can't do much with lat/lon, so let's do some spatial clustering"
   ]
  },
  {
   "cell_type": "code",
   "execution_count": 10,
   "id": "ccd0d505",
   "metadata": {},
   "outputs": [
    {
     "data": {
      "text/plain": [
       "{'CA': 7337.583333333333, 'OR': 2494.7916666666665, 'WA': 1355.5416666666667}"
      ]
     },
     "execution_count": 10,
     "metadata": {},
     "output_type": "execute_result"
    }
   ],
   "source": [
    "#----- Count fires per state per year\n",
    "fires_per_year = full_df.groupby(['STATE', 'FIRE_YEAR']).size().reset_index(name='fire_count')\n",
    "\n",
    "#----- Calculate average fires per year per state\n",
    "avg_fires_per_state = fires_per_year.groupby('STATE')['fire_count'].mean()\n",
    "avg_fires_per_state = avg_fires_per_state.to_dict()\n",
    "avg_fires_per_state"
   ]
  },
  {
   "cell_type": "code",
   "execution_count": 16,
   "id": "f0d21905",
   "metadata": {},
   "outputs": [],
   "source": [
    "#----- Starting # of clusters\n",
    "base_clusters = 20\n",
    "\n",
    "#----- Compute proportional clusters\n",
    "total_fires = sum(avg_fires_per_state.values())\n",
    "clusters_per_state = {\n",
    "    state: max(1, int(round(base_clusters * count / total_fires))) \n",
    "    for state, count in avg_fires_per_state.items()\n",
    "}\n",
    "\n",
    "#----- Initialize cluster column\n",
    "full_df['location_cluster'] = -1\n",
    "\n",
    "#----- Perform clustering per state with proportional clusters\n",
    "for state, n_clusters in clusters_per_state.items():\n",
    "    mask = full_df['STATE'] == state\n",
    "    coords = full_df.loc[mask, ['LATITUDE', 'LONGITUDE']]\n",
    "    \n",
    "    if len(coords) >= n_clusters:\n",
    "        kmeans = KMeans(n_clusters=n_clusters, random_state=42)\n",
    "        clusters = kmeans.fit_predict(coords)\n",
    "        full_df.loc[mask, 'location_cluster'] = clusters\n",
    "    else:\n",
    "        #----- Assign single cluster if not enough points\n",
    "        full_df.loc[mask, 'location_cluster'] = 0\n"
   ]
  },
  {
   "cell_type": "code",
   "execution_count": 13,
   "id": "f6251e6d",
   "metadata": {},
   "outputs": [
    {
     "data": {
      "text/plain": [
       "0     43050\n",
       "1     39800\n",
       "3     30284\n",
       "2     29113\n",
       "9     23423\n",
       "5     19511\n",
       "11    18590\n",
       "4     12764\n",
       "10    12730\n",
       "8     12261\n",
       "7     12210\n",
       "6      8374\n",
       "12     6400\n",
       "Name: location_cluster, dtype: int64"
      ]
     },
     "execution_count": 13,
     "metadata": {},
     "output_type": "execute_result"
    }
   ],
   "source": [
    "full_df = pd.get_dummies(full_df, columns=['location_cluster'], prefix='loc')"
   ]
  },
  {
   "cell_type": "code",
   "execution_count": null,
   "id": "3d62d919",
   "metadata": {},
   "outputs": [],
   "source": []
  }
 ],
 "metadata": {
  "kernelspec": {
   "display_name": "Python 3 (ipykernel)",
   "language": "python",
   "name": "python3"
  },
  "language_info": {
   "codemirror_mode": {
    "name": "ipython",
    "version": 3
   },
   "file_extension": ".py",
   "mimetype": "text/x-python",
   "name": "python",
   "nbconvert_exporter": "python",
   "pygments_lexer": "ipython3",
   "version": "3.9.13"
  }
 },
 "nbformat": 4,
 "nbformat_minor": 5
}
